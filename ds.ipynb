{
  "nbformat": 4,
  "nbformat_minor": 0,
  "metadata": {
    "colab": {
      "provenance": [],
      "gpuType": "T4",
      "authorship_tag": "ABX9TyNVYYjfTZ8gM8rAN9M7ZRIf",
      "include_colab_link": true
    },
    "kernelspec": {
      "name": "python3",
      "display_name": "Python 3"
    },
    "language_info": {
      "name": "python"
    },
    "accelerator": "GPU"
  },
  "cells": [
    {
      "cell_type": "markdown",
      "metadata": {
        "id": "view-in-github",
        "colab_type": "text"
      },
      "source": [
        "<a href=\"https://colab.research.google.com/github/sanjayparajuli/colab/blob/main/ds.ipynb\" target=\"_parent\"><img src=\"https://colab.research.google.com/assets/colab-badge.svg\" alt=\"Open In Colab\"/></a>"
      ]
    },
    {
      "cell_type": "code",
      "execution_count": null,
      "metadata": {
        "colab": {
          "base_uri": "https://localhost:8080/"
        },
        "id": "dF5mllPxKtfE",
        "outputId": "323e6f85-bb99-453d-d29d-0745658a2c2c"
      },
      "outputs": [
        {
          "output_type": "stream",
          "name": "stdout",
          "text": [
            "The item in an array is [10, 20, 'foo', 'bar', 'joe', 99, -1]\n",
            "-1\n",
            "After removing element -1 an elements from an array The item in an array is [10, 20, 'foo', 'bar', 'joe', 99]\n",
            "99\n",
            "The item in an array is []\n"
          ]
        }
      ],
      "source": [
        "class Stack:\n",
        "  def __init__(self):\n",
        "    self.size = 0\n",
        "    self.data = []\n",
        "\n",
        "  def isEmpty(self):\n",
        "    return self.size == 0\n",
        "\n",
        "  def __len__(self):\n",
        "    return self.size\n",
        "\n",
        "  def push(self, item):\n",
        "\n",
        "\n",
        "    self.data.append(item)\n",
        "    self.size +=1\n",
        "\n",
        "  def pop(self):\n",
        "    if self.isEmpty():\n",
        "      return 'An Array is empty'\n",
        "\n",
        "    last = self.data[self.size - 1]\n",
        "    self.data.pop()\n",
        "    self.size -= 1\n",
        "    return last\n",
        "\n",
        "  def peek(self):\n",
        "    if self.isEmpty():\n",
        "      return 'An Array is empty'\n",
        "\n",
        "    return self.data[self.size-1]\n",
        "\n",
        "  def clear(self):\n",
        "    self.data.clear()\n",
        "    self.size = 0\n",
        "\n",
        "  def __str__(self):\n",
        "    return f'The item in an array is {self.data}'\n",
        "\n",
        "stack = Stack()\n",
        "for c in [10, 20, 'foo', 'bar', 'joe', 99, -1]:\n",
        "  stack.push(c)\n",
        "print(stack)\n",
        "print(stack.peek())\n",
        "print(f'After removing element {stack.pop()} an elements from an array {stack}')\n",
        "print(stack.peek())\n",
        "stack.clear()\n",
        "print(stack)"
      ]
    },
    {
      "cell_type": "code",
      "source": [
        "a = [12, 14, 25]\n",
        "a.clear()\n",
        "a"
      ],
      "metadata": {
        "colab": {
          "base_uri": "https://localhost:8080/"
        },
        "id": "nGlKsOkPVdBt",
        "outputId": "f8885d0a-6d2a-4f48-8535-832dbb2abbb5"
      },
      "execution_count": null,
      "outputs": [
        {
          "output_type": "execute_result",
          "data": {
            "text/plain": [
              "[]"
            ]
          },
          "metadata": {},
          "execution_count": 18
        }
      ]
    },
    {
      "cell_type": "code",
      "source": [
        "class Queue:\n",
        "  def __init__(self):\n",
        "    self.item = []\n",
        "    self.size = 0\n",
        "\n",
        "  def isEmpty(self):\n",
        "    return self.size == 0\n",
        "\n",
        "\n",
        "  def enqueue(self, value):\n",
        "    self.item.append(value)\n",
        "    self.size += 1\n",
        "\n",
        "  def dequeue(self):\n",
        "    if self.isEmpty():\n",
        "      return None\n",
        "    a = self.item.pop(0)\n",
        "    self.size -=1\n",
        "    return a\n",
        "\n",
        "  def peek(self):\n",
        "    if self.isEmpty():\n",
        "      return None\n",
        "    return self.item[0]\n",
        "\n",
        "\n",
        "  def __len__(self):\n",
        "    return self.size\n",
        "\n",
        "  def __str__(self):\n",
        "    return f'The item in an arry are {self.item}'\n",
        "\n",
        "\n",
        "\n",
        "queue = Queue()\n",
        "\n",
        "for new in ['may', 'the', 'force', 'be', 'with', 'you', 100, 110, 150]:\n",
        "  queue.enqueue(new)\n",
        "\n",
        "print(queue.item)\n",
        "print(queue.size)\n",
        "print(queue.dequeue())\n",
        "print(queue)\n",
        "print(queue.peek())\n",
        "print(queue.dequeue())\n",
        "print(queue)\n",
        "print(queue.peek())\n",
        "print(f'Total len of the items in an arrya are: {len(queue)}')\n"
      ],
      "metadata": {
        "colab": {
          "base_uri": "https://localhost:8080/"
        },
        "id": "FafOQBklVeVu",
        "outputId": "91128daf-9b64-49f6-b444-acd9f9c4c6f8"
      },
      "execution_count": null,
      "outputs": [
        {
          "output_type": "stream",
          "name": "stdout",
          "text": [
            "['may', 'the', 'force', 'be', 'with', 'you', 100, 110, 150]\n",
            "9\n",
            "may\n",
            "The item in an arry are ['the', 'force', 'be', 'with', 'you', 100, 110, 150]\n",
            "the\n",
            "the\n",
            "The item in an arry are ['force', 'be', 'with', 'you', 100, 110, 150]\n",
            "force\n",
            "Total len of the items in an arrya are: 7\n"
          ]
        }
      ]
    },
    {
      "cell_type": "code",
      "source": [
        "class Queue:\n",
        "    def __init__(self):\n",
        "        \"\"\"Initialize an empty queue.\"\"\"\n",
        "        self.items = []\n",
        "        self.size = 0\n",
        "\n",
        "    def is_empty(self):\n",
        "        \"\"\"Check if the queue is empty.\"\"\"\n",
        "        return self.size == 0\n",
        "\n",
        "    def enqueue(self, value):\n",
        "        \"\"\"Add an element to the end of the queue.\"\"\"\n",
        "        self.items.append(value)\n",
        "        self.size += 1\n",
        "\n",
        "    def dequeue(self):\n",
        "        \"\"\"Remove and return the element from the front of the queue.\n",
        "        Returns None if queue is empty.\"\"\"\n",
        "        if self.is_empty():\n",
        "            return None\n",
        "        value = self.items.pop(0)\n",
        "        self.size -= 1\n",
        "        return value\n",
        "\n",
        "    def peek(self):\n",
        "        \"\"\"Return the front element without removing it.\n",
        "        Returns None if queue is empty.\"\"\"\n",
        "        if self.is_empty():\n",
        "            return None\n",
        "        return self.items[0]\n",
        "\n",
        "    def __len__(self):\n",
        "        \"\"\"Return the number of elements in the queue.\"\"\"\n",
        "        return self.size\n",
        "\n",
        "    def __str__(self):\n",
        "        \"\"\"Return a user-friendly string representation.\"\"\"\n",
        "        if self.is_empty():\n",
        "            return \"Queue is empty\"\n",
        "        items_str = ', '.join(str(item) for item in self.items)\n",
        "        return f\"Queue(size={self.size}): [{items_str}]\"\n",
        "\n",
        "    def details(self):\n",
        "        \"\"\"Return detailed info about the queue for debugging.\"\"\"\n",
        "        return (\n",
        "            f\"Queue Details:\\n\"\n",
        "            f\"Size: {self.size}\\n\"\n",
        "            f\"Items: {self.items}\\n\"\n",
        "            f\"Is Empty: {self.is_empty()}\"\n",
        "        )\n",
        "queue = Queue()\n",
        "for val in ['may', 'the', 'force', 'be', 'with', 'you', 100, 110, 150]:\n",
        "    queue.enqueue(val)\n",
        "\n",
        "print(queue)          # Queue(size=9): [may, the, force, be, with, you, 100, 110, 150]\n",
        "print(queue.peek())   # may\n",
        "print(queue.dequeue()) # may\n",
        "print(queue)          # Queue(size=8): [the, force, be, with, you, 100, 110, 150]\n",
        "print(queue.details())\n"
      ],
      "metadata": {
        "id": "RGwSwmjCVeeq",
        "colab": {
          "base_uri": "https://localhost:8080/"
        },
        "outputId": "7edda4e4-816b-4450-c0fb-6661182d3eca"
      },
      "execution_count": null,
      "outputs": [
        {
          "output_type": "stream",
          "name": "stdout",
          "text": [
            "Queue(size=9): [may, the, force, be, with, you, 100, 110, 150]\n",
            "may\n",
            "may\n",
            "Queue(size=8): [the, force, be, with, you, 100, 110, 150]\n",
            "Queue Details:\n",
            "Size: 8\n",
            "Items: ['the', 'force', 'be', 'with', 'you', 100, 110, 150]\n",
            "Is Empty: False\n"
          ]
        }
      ]
    },
    {
      "cell_type": "code",
      "source": [
        "class PriorityQueue:\n",
        "  def __init__(self):\n",
        "    self.data = []\n",
        "    self.size = 0\n",
        "\n",
        "  def isEmpty(self):\n",
        "    return self.size == 0\n",
        "\n",
        "  def __len__(self):\n",
        "    return self.size\n",
        "\n",
        "  def insert(self, item, priority):\n",
        "    self.data.append((item, priority))\n",
        "\n",
        "    self.size +=1\n",
        "\n",
        "  def __str__(self):\n",
        "    return f'The item in priority queue: {pri_queue.data}'\n",
        "\n",
        "pri_queue = PriorityQueue()\n",
        "for name, priority in [('joe', 2), ('john', 1), ('bar', 2), ('foo', 1), (9, 1), (12, 1), (3, 3)]:\n",
        "  pri_queue.insert(name, priority)\n",
        "print(pri_queue)"
      ],
      "metadata": {
        "id": "mVlDh6SOVejt",
        "colab": {
          "base_uri": "https://localhost:8080/"
        },
        "outputId": "e67e3192-f731-497c-a807-4e8b47f9bf10"
      },
      "execution_count": null,
      "outputs": [
        {
          "output_type": "stream",
          "name": "stdout",
          "text": [
            "The item in priority queue: [('joe', 2), ('john', 1), ('bar', 2), ('foo', 1), (9, 1), (12, 1), (3, 3)]\n"
          ]
        }
      ]
    },
    {
      "cell_type": "code",
      "source": [],
      "metadata": {
        "id": "YVIxx02zVeop"
      },
      "execution_count": null,
      "outputs": []
    },
    {
      "cell_type": "code",
      "source": [
        " a = [('joe', 2), ('john', 1), ('bar', 2), ('foo', 1), (9, 1), (12, 1), (3, 3)]\n",
        " for i in a:\n",
        "  print(i, i[][1])"
      ],
      "metadata": {
        "id": "2Wxha7LCVetg",
        "colab": {
          "base_uri": "https://localhost:8080/",
          "height": 110
        },
        "outputId": "e839b12c-1106-48a2-bdba-09157e0664c7"
      },
      "execution_count": null,
      "outputs": [
        {
          "output_type": "error",
          "ename": "SyntaxError",
          "evalue": "invalid syntax. Perhaps you forgot a comma? (ipython-input-3395618309.py, line 3)",
          "traceback": [
            "\u001b[0;36m  File \u001b[0;32m\"/tmp/ipython-input-3395618309.py\"\u001b[0;36m, line \u001b[0;32m3\u001b[0m\n\u001b[0;31m    print(i, i[][1])\u001b[0m\n\u001b[0m             ^\u001b[0m\n\u001b[0;31mSyntaxError\u001b[0m\u001b[0;31m:\u001b[0m invalid syntax. Perhaps you forgot a comma?\n"
          ]
        }
      ]
    },
    {
      "cell_type": "code",
      "source": [
        "def increament(a, b):\n",
        "  a += 1\n",
        "  b[0] += 1\n",
        "\n",
        "x = 1\n",
        "y = [1]\n",
        "increament(x,y)\n",
        "print(x, y)"
      ],
      "metadata": {
        "id": "6n76O3SSVext",
        "colab": {
          "base_uri": "https://localhost:8080/"
        },
        "outputId": "0749000a-3e1d-480e-d77a-3f03a5c8e32b"
      },
      "execution_count": null,
      "outputs": [
        {
          "output_type": "stream",
          "name": "stdout",
          "text": [
            "1 [2]\n"
          ]
        }
      ]
    },
    {
      "cell_type": "code",
      "source": [
        "class Animal:\n",
        "def __init__(self, name):\n",
        "  self.name = name\n",
        "\n",
        "def speak(self):\n",
        "  print('Animal speak')\n",
        "\n",
        "class Dog(Animal):\n",
        "  def __init__(self, age):\n",
        "    self.age = age\n",
        "\n",
        "a = Animal('Johny')\n",
        "a"
      ],
      "metadata": {
        "id": "HSPZCo6fVe2P",
        "colab": {
          "base_uri": "https://localhost:8080/"
        },
        "outputId": "3fb6a6be-228a-4e2e-a510-38da8181d4ab"
      },
      "execution_count": null,
      "outputs": [
        {
          "output_type": "error",
          "ename": "IndentationError",
          "evalue": "expected an indented block after class definition on line 1 (ipython-input-2583061533.py, line 2)",
          "traceback": [
            "\u001b[0;36m  File \u001b[0;32m\"/tmp/ipython-input-2583061533.py\"\u001b[0;36m, line \u001b[0;32m2\u001b[0m\n\u001b[0;31m    def __init__(self, name):\u001b[0m\n\u001b[0m    ^\u001b[0m\n\u001b[0;31mIndentationError\u001b[0m\u001b[0;31m:\u001b[0m expected an indented block after class definition on line 1\n"
          ]
        }
      ]
    },
    {
      "cell_type": "code",
      "source": [],
      "metadata": {
        "id": "3mIST_RTVe6d"
      },
      "execution_count": null,
      "outputs": []
    },
    {
      "cell_type": "code",
      "source": [],
      "metadata": {
        "id": "iMW8vqx8Ve-2"
      },
      "execution_count": null,
      "outputs": []
    },
    {
      "cell_type": "code",
      "source": [],
      "metadata": {
        "id": "oVIktDapVfC-"
      },
      "execution_count": null,
      "outputs": []
    },
    {
      "cell_type": "code",
      "source": [],
      "metadata": {
        "id": "77YfFANfVfG2"
      },
      "execution_count": null,
      "outputs": []
    },
    {
      "cell_type": "code",
      "source": [],
      "metadata": {
        "id": "lURum05sVfLF"
      },
      "execution_count": null,
      "outputs": []
    },
    {
      "cell_type": "code",
      "source": [],
      "metadata": {
        "id": "EF7woeZBVfPb"
      },
      "execution_count": null,
      "outputs": []
    },
    {
      "cell_type": "code",
      "source": [],
      "metadata": {
        "id": "aAOkpmrQVfTJ"
      },
      "execution_count": null,
      "outputs": []
    },
    {
      "cell_type": "code",
      "source": [],
      "metadata": {
        "id": "Umf4mzM1VfXv"
      },
      "execution_count": null,
      "outputs": []
    },
    {
      "cell_type": "code",
      "source": [],
      "metadata": {
        "id": "OTOmsPv8Vfbb"
      },
      "execution_count": null,
      "outputs": []
    },
    {
      "cell_type": "code",
      "source": [],
      "metadata": {
        "id": "yGeBfJuiVffm"
      },
      "execution_count": null,
      "outputs": []
    },
    {
      "cell_type": "code",
      "source": [],
      "metadata": {
        "id": "GsWQ2IIZVfk-"
      },
      "execution_count": null,
      "outputs": []
    },
    {
      "cell_type": "code",
      "source": [],
      "metadata": {
        "id": "kWljzihNVfpz"
      },
      "execution_count": null,
      "outputs": []
    },
    {
      "cell_type": "code",
      "source": [],
      "metadata": {
        "id": "B6rGdyGoVful"
      },
      "execution_count": null,
      "outputs": []
    },
    {
      "cell_type": "code",
      "source": [],
      "metadata": {
        "id": "Eym_sgwhVfzE"
      },
      "execution_count": null,
      "outputs": []
    },
    {
      "cell_type": "code",
      "source": [],
      "metadata": {
        "id": "dcpnCl5ZVf32"
      },
      "execution_count": null,
      "outputs": []
    },
    {
      "cell_type": "code",
      "source": [],
      "metadata": {
        "id": "o1vgKz5YVf8c"
      },
      "execution_count": null,
      "outputs": []
    },
    {
      "cell_type": "code",
      "source": [],
      "metadata": {
        "id": "i0TWYASUVgBY"
      },
      "execution_count": null,
      "outputs": []
    },
    {
      "cell_type": "code",
      "source": [],
      "metadata": {
        "id": "v51Gp6Ii-_cO"
      },
      "execution_count": null,
      "outputs": []
    },
    {
      "cell_type": "code",
      "source": [],
      "metadata": {
        "id": "GSLfzCM_-_X0"
      },
      "execution_count": null,
      "outputs": []
    },
    {
      "cell_type": "code",
      "source": [],
      "metadata": {
        "id": "GsLEQNQ7-_S1"
      },
      "execution_count": null,
      "outputs": []
    },
    {
      "cell_type": "code",
      "source": [],
      "metadata": {
        "id": "CmzOa12L-_OH"
      },
      "execution_count": null,
      "outputs": []
    },
    {
      "cell_type": "code",
      "source": [],
      "metadata": {
        "id": "QMUcoZjX-_Ji"
      },
      "execution_count": null,
      "outputs": []
    },
    {
      "cell_type": "code",
      "source": [],
      "metadata": {
        "id": "53pdMzoQ-_Em"
      },
      "execution_count": null,
      "outputs": []
    },
    {
      "cell_type": "code",
      "source": [],
      "metadata": {
        "id": "dVlBJ1-V--_8"
      },
      "execution_count": null,
      "outputs": []
    },
    {
      "cell_type": "code",
      "source": [],
      "metadata": {
        "id": "nD58sk7K--6m"
      },
      "execution_count": null,
      "outputs": []
    },
    {
      "cell_type": "code",
      "source": [],
      "metadata": {
        "id": "3_GE3cxu--2T"
      },
      "execution_count": null,
      "outputs": []
    },
    {
      "cell_type": "code",
      "source": [],
      "metadata": {
        "id": "6kUKfnfn--xk"
      },
      "execution_count": null,
      "outputs": []
    },
    {
      "cell_type": "code",
      "source": [],
      "metadata": {
        "id": "v0Dlm5Yk--tH"
      },
      "execution_count": null,
      "outputs": []
    },
    {
      "cell_type": "code",
      "source": [],
      "metadata": {
        "id": "e9w5n46i--oz"
      },
      "execution_count": null,
      "outputs": []
    },
    {
      "cell_type": "code",
      "source": [],
      "metadata": {
        "id": "j6uDev26--kN"
      },
      "execution_count": null,
      "outputs": []
    },
    {
      "cell_type": "code",
      "source": [],
      "metadata": {
        "id": "LPv4BLuP--fp"
      },
      "execution_count": null,
      "outputs": []
    },
    {
      "cell_type": "code",
      "source": [],
      "metadata": {
        "id": "lggqnqDr--ap"
      },
      "execution_count": null,
      "outputs": []
    },
    {
      "cell_type": "code",
      "source": [],
      "metadata": {
        "id": "sH72lyIJ--Wr"
      },
      "execution_count": null,
      "outputs": []
    },
    {
      "cell_type": "code",
      "source": [],
      "metadata": {
        "id": "WSxBgBuz--M5"
      },
      "execution_count": null,
      "outputs": []
    },
    {
      "cell_type": "code",
      "source": [],
      "metadata": {
        "id": "_BcM0WzA--IU"
      },
      "execution_count": null,
      "outputs": []
    },
    {
      "cell_type": "code",
      "source": [],
      "metadata": {
        "id": "yWzYnt4q--DO"
      },
      "execution_count": null,
      "outputs": []
    },
    {
      "cell_type": "code",
      "source": [],
      "metadata": {
        "id": "wsVpYAh6-9_B"
      },
      "execution_count": null,
      "outputs": []
    },
    {
      "cell_type": "code",
      "source": [],
      "metadata": {
        "id": "CqTjKnzQ-94t"
      },
      "execution_count": null,
      "outputs": []
    },
    {
      "cell_type": "code",
      "source": [],
      "metadata": {
        "id": "0lgF8MQb-9ud"
      },
      "execution_count": null,
      "outputs": []
    },
    {
      "cell_type": "code",
      "source": [],
      "metadata": {
        "id": "XKLg8GMZ-9fQ"
      },
      "execution_count": null,
      "outputs": []
    }
  ]
}