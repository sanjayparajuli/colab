{
  "nbformat": 4,
  "nbformat_minor": 0,
  "metadata": {
    "colab": {
      "provenance": [],
      "gpuType": "T4",
      "authorship_tag": "ABX9TyP2vjq9+XN4+nFJBUPita0L",
      "include_colab_link": true
    },
    "kernelspec": {
      "name": "python3",
      "display_name": "Python 3"
    },
    "language_info": {
      "name": "python"
    },
    "accelerator": "GPU"
  },
  "cells": [
    {
      "cell_type": "markdown",
      "metadata": {
        "id": "view-in-github",
        "colab_type": "text"
      },
      "source": [
        "<a href=\"https://colab.research.google.com/github/sanjayparajuli/colab/blob/main/sqlite.ipynb\" target=\"_parent\"><img src=\"https://colab.research.google.com/assets/colab-badge.svg\" alt=\"Open In Colab\"/></a>"
      ]
    },
    {
      "cell_type": "code",
      "execution_count": 2,
      "metadata": {
        "colab": {
          "base_uri": "https://localhost:8080/"
        },
        "id": "W6-8ViK20IXA",
        "outputId": "754d1a22-75fb-4ca4-c1a7-a4711a8ebee5"
      },
      "outputs": [
        {
          "output_type": "stream",
          "name": "stdout",
          "text": [
            "Requirement already satisfied: pysqlite3 in /usr/local/lib/python3.12/dist-packages (0.5.4)\n",
            "3.37.2\n"
          ]
        }
      ],
      "source": [
        "!pip install pysqlite3\n",
        "from pysqlite3 import dbapi2 as sqlite3\n",
        "print(sqlite3.sqlite_version)\n",
        "import pandas as pd\n",
        "from IPython.display import display, HTML"
      ]
    },
    {
      "cell_type": "code",
      "source": [
        "dbname = 'music_streaming_1.db'\n",
        "def printSqlResults(cursor, tblName):\n",
        "  try:\n",
        "    df = pd.DataFrame(cursor.fetchall(), columns=[i[0] for i in cursor.description])\n",
        "    display(HTML(\"<b><font color=Green> \" + tblName + \"</font></b>\" + df.to_html(index=False)))\n",
        "  except:\n",
        "    pass\n",
        "\n",
        "def runSql(caption, query):\n",
        "  conn = sqlite3.connect(dbname)\n",
        "  cursor = conn.cursor()\n",
        "  cursor.execute(query)\n",
        "  printSqlResults(cursor, caption)\n",
        "  conn.close()\n",
        "\n",
        "def runStepByStepSql(query, fromline):\n",
        "  lines = query.strip().split('\\n')\n",
        "  for lineindx in range(fromline, len(lines)):\n",
        "    partial_query = '\\n'.join(lines[:lineindx])\n",
        "    caption = 'Query till line:' + partial_query\n",
        "    runSql(caption, partial_query + ':')\n"
      ],
      "metadata": {
        "id": "f9s3RKZy1GNU"
      },
      "execution_count": 10,
      "outputs": []
    },
    {
      "cell_type": "code",
      "source": [
        "query = \"\"\"\n",
        "CREATE TABLE songs(id INTEGER, title TEXT);\n",
        "INSERT INTO songs VALUES (1, 'Song A');\n",
        "INSERT INTO songs VALUES (2, 'Song B');\n",
        "SELECT * FROM songs;\n",
        "\"\"\"\n",
        "fromline = 1\n",
        "lines = query.strip().split('\\n')\n",
        "for lineindex in range(1, len(lines)):\n",
        "  partial_query = '\\n'.join(lines[:lineindex])\n",
        "  print(f'Lineidx={lineindex} -> partial_query:\\n{partial_query}\\n')"
      ],
      "metadata": {
        "colab": {
          "base_uri": "https://localhost:8080/"
        },
        "id": "ixfDfyww8YRS",
        "outputId": "2deb2fe1-b2f0-405b-ac6f-8e7b0337be0d"
      },
      "execution_count": 7,
      "outputs": [
        {
          "output_type": "stream",
          "name": "stdout",
          "text": [
            "Lineidx=1 -> partial_query:\n",
            "CREATE TABLE songs(id INTEGER, title TEXT);\n",
            "\n",
            "Lineidx=2 -> partial_query:\n",
            "CREATE TABLE songs(id INTEGER, title TEXT);\n",
            "INSERT INTO songs VALUES (1, 'Song A');\n",
            "\n",
            "Lineidx=3 -> partial_query:\n",
            "CREATE TABLE songs(id INTEGER, title TEXT);\n",
            "INSERT INTO songs VALUES (1, 'Song A');\n",
            "INSERT INTO songs VALUES (2, 'Song B');\n",
            "\n"
          ]
        }
      ]
    },
    {
      "cell_type": "code",
      "source": [
        "for lineindex in range(1, len(lines)):\n",
        "  partial_query = '\\n'.join(lines[:lineindex])\n",
        "  print(f'Lineidx={lineindex} -> partial_query:\\n{partial_query}\\n')"
      ],
      "metadata": {
        "colab": {
          "base_uri": "https://localhost:8080/"
        },
        "id": "cXfbN_Xx1GB7",
        "outputId": "2dcb5232-eb2e-4d93-cfff-40a4414fd681"
      },
      "execution_count": 5,
      "outputs": [
        {
          "output_type": "stream",
          "name": "stdout",
          "text": [
            "Lineidx=0 -> partial_query:\n",
            "\n",
            "\n",
            "Lineidx=1 -> partial_query:\n",
            "CREATE TABLE songs(id INTEGER, title TEXT);\n",
            "\n",
            "Lineidx=2 -> partial_query:\n",
            "CREATE TABLE songs(id INTEGER, title TEXT);\n",
            "INSERT INTO songs VALUES (1, 'Song A');\n",
            "\n",
            "Lineidx=3 -> partial_query:\n",
            "CREATE TABLE songs(id INTEGER, title TEXT);\n",
            "INSERT INTO songs VALUES (1, 'Song A');\n",
            "INSERT INTO songs VALUES (2, 'Song B');\n",
            "\n"
          ]
        }
      ]
    },
    {
      "cell_type": "code",
      "source": [],
      "metadata": {
        "id": "m9iEfkbS1F-_"
      },
      "execution_count": null,
      "outputs": []
    },
    {
      "cell_type": "code",
      "source": [],
      "metadata": {
        "id": "sCaCptkJ1F8K"
      },
      "execution_count": null,
      "outputs": []
    },
    {
      "cell_type": "code",
      "source": [],
      "metadata": {
        "id": "UtYqq6br1F5K"
      },
      "execution_count": null,
      "outputs": []
    },
    {
      "cell_type": "code",
      "source": [],
      "metadata": {
        "id": "GML5-buW1F2Q"
      },
      "execution_count": null,
      "outputs": []
    },
    {
      "cell_type": "code",
      "source": [],
      "metadata": {
        "id": "Ic12sgr21FzU"
      },
      "execution_count": null,
      "outputs": []
    },
    {
      "cell_type": "code",
      "source": [],
      "metadata": {
        "id": "7HAPGlbM1Fwl"
      },
      "execution_count": null,
      "outputs": []
    },
    {
      "cell_type": "code",
      "source": [],
      "metadata": {
        "id": "2Me7UgWf1Fto"
      },
      "execution_count": null,
      "outputs": []
    },
    {
      "cell_type": "code",
      "source": [],
      "metadata": {
        "id": "Y7RuEBN21Fqu"
      },
      "execution_count": null,
      "outputs": []
    },
    {
      "cell_type": "code",
      "source": [],
      "metadata": {
        "id": "QBxoiR-R1FjG"
      },
      "execution_count": null,
      "outputs": []
    }
  ]
}