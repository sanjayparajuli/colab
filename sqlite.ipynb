{
  "nbformat": 4,
  "nbformat_minor": 0,
  "metadata": {
    "colab": {
      "provenance": [],
      "gpuType": "T4",
      "authorship_tag": "ABX9TyN1+GHANbIhDneZEAgtKgSX",
      "include_colab_link": true
    },
    "kernelspec": {
      "name": "python3",
      "display_name": "Python 3"
    },
    "language_info": {
      "name": "python"
    },
    "accelerator": "GPU"
  },
  "cells": [
    {
      "cell_type": "markdown",
      "metadata": {
        "id": "view-in-github",
        "colab_type": "text"
      },
      "source": [
        "<a href=\"https://colab.research.google.com/github/sanjayparajuli/colab/blob/main/sqlite.ipynb\" target=\"_parent\"><img src=\"https://colab.research.google.com/assets/colab-badge.svg\" alt=\"Open In Colab\"/></a>"
      ]
    },
    {
      "cell_type": "code",
      "execution_count": 1,
      "metadata": {
        "colab": {
          "base_uri": "https://localhost:8080/"
        },
        "id": "W6-8ViK20IXA",
        "outputId": "bbec1c44-61df-42b2-9edc-4b3c21a49692"
      },
      "outputs": [
        {
          "output_type": "stream",
          "name": "stdout",
          "text": [
            "Requirement already satisfied: pysqlite3 in /usr/local/lib/python3.12/dist-packages (0.5.4)\n",
            "3.37.2\n"
          ]
        }
      ],
      "source": [
        "!pip install pysqlite3\n",
        "from pysqlite3 import dbapi2 as sqlite3\n",
        "print(sqlite3.sqlite_version)\n",
        "import pandas as pd\n",
        "from IPython.display import display, HTML"
      ]
    },
    {
      "cell_type": "code",
      "source": [
        "dbname = 'music_streaming_2.db'\n",
        "def printSqlResults(cursor, tblName):\n",
        "  try:\n",
        "    df = pd.DataFrame(cursor.fetchall(), columns=[i[0] for i in cursor.description])\n",
        "    display(HTML(\"<b><font color=Green> \" + tblName + \"</font></b>\" + df.to_html(index=False)))\n",
        "  except:\n",
        "    pass\n",
        "\n",
        "def runSql(caption, query):\n",
        "  conn = sqlite3.connect(dbname)\n",
        "  cursor = conn.cursor()\n",
        "  cursor.execute(query)\n",
        "  printSqlResults(cursor, caption)\n",
        "  conn.close()\n",
        "\n",
        "def runStepByStepSql(query, fromline):\n",
        "  lines = query.strip().split('\\n')\n",
        "  for lineindx in range(fromline, len(lines)):\n",
        "    partial_query = '\\n'.join(lines[:lineindx])\n",
        "    caption = 'Query till line:' + partial_query\n",
        "    runSql(caption, partial_query + ':')\n"
      ],
      "metadata": {
        "id": "f9s3RKZy1GNU"
      },
      "execution_count": 2,
      "outputs": []
    },
    {
      "cell_type": "code",
      "source": [
        "conn = sqlite3.connect(dbname)\n",
        "cursor = conn.cursor()\n",
        "cursor.execute(\"\"\"\n",
        "CREATE TABLE IF NOT EXISTS Users (\n",
        "  user_id INTEGER PRIMARY KEY,\n",
        "  name VARCHAR(100) NOT NULL,\n",
        "  email VARCHAR(100) NOT NULL UNIQUE\n",
        ");\n",
        "\"\"\")\n",
        "\n",
        "cursor.execute(\"\"\"\n",
        "CREATE TABLE IF NOT EXISTS Songs (\n",
        "  song_id INTEGER PRIMARY KEY,\n",
        "  title VARCHAR(100) NOT NULL,\n",
        "  artist VARCHAR(100) NOT NULL,\n",
        "  genre VARCHAR(100)\n",
        ");\n",
        "\"\"\")\n",
        "\n",
        "cursor.execute(\"\"\"\n",
        "CREATE TABLE IF NOT EXISTS Listens (\n",
        "  listen_id INTEGER PRIMARY KEY,\n",
        "  user_id INTEGER NOT NULL,\n",
        "  song_id INTEGER NOT NULL,\n",
        "  rating FLOAT,\n",
        "  listen_time TIMESTAMP,\n",
        "  FOREIGN KEY (user_id) REFERENCES User(user_id),\n",
        "  FOREIGN KEY (song_id) REFERENCES Songs(song_id)\n",
        "\n",
        ");\n",
        "\"\"\")\n",
        "cursor.execute(\"\"\"\n",
        "CREATE TABLE IF NOT EXISTS Recommendations (\n",
        "  user_id INTEGER NOT NULL,\n",
        "  song_id INTEGER NOT NULL,\n",
        "  recommendation_id INTEGER PRIMARY KEY,\n",
        "  recommendation_time TIMESTAMP,\n",
        "  FOREIGN KEY (user_id) REFERENCES Users(user_id),\n",
        "  FOREIGN KEY (song_id) REFERENCES Songs (song_id)\n",
        ");\n",
        "\"\"\")\n",
        "conn.commit()\n",
        "conn.close()"
      ],
      "metadata": {
        "id": "M_qC_DuFJvqE"
      },
      "execution_count": 3,
      "outputs": []
    },
    {
      "cell_type": "code",
      "source": [
        "conn = sqlite3.connect(dbname)\n",
        "sqlite3.enable_callback_tracebacks(True)\n",
        "cursor = conn.cursor()\n",
        "cursor.execute('delete from Songs;')\n",
        "cursor.execute('delete from Users;')\n",
        "cursor.execute('delete from Listens;')\n",
        "cursor.execute('delete from Recommendations;')\n",
        "\n",
        "cursor.execute(\"\"\"\n",
        "INSERT INTO Users (user_id, name, email)\n",
        "VALUES\n",
        "  (1, 'Mickey', 'mickey@example.com'),\n",
        "  (2, 'Mine', 'minnie@example.com'),\n",
        "  (3, 'Daffy', 'daffy@example.com'),\n",
        "  (4, 'Pluto', 'pluto@example.com');\n",
        "\"\"\")\n",
        "\n",
        "cursor.execute(\"\"\"\n",
        "INSERT INTO Songs(song_id, title, artist, genre)\n",
        "VALUES\n",
        "(1, 'Evermore', 'Taylor Swift', 'pop'),\n",
        "(2, 'Willow', 'Taylor Swift', 'Pop'),\n",
        "(3, 'Shape of You', 'Ed Sheeran', 'Rock'),\n",
        "(4, 'Photograph', 'Ed Sheeran', 'Rock'),\n",
        "(5, 'Shivers', 'Ed Sheeran', 'Rock'),\n",
        "(6, 'Yesterday', 'Beatles', 'Classic'),\n",
        "(7, 'Yellow Submarine', 'Beatles', 'Classic'),\n",
        "(8, 'Hey Jude', 'Beatles', 'Classic'),\n",
        "(9, 'Bad Blood', 'Taylor Swift', 'Rock'),\n",
        "(10, 'DJ Mix', 'DJ', NULL);\n",
        "\n",
        "\"\"\")\n",
        "cursor.execute(\"\"\"\n",
        "INSERT INTO Listens (listen_id, user_id, song_id, rating, listen_time)\n",
        "VALUES\n",
        "(1, 1, 1, 4.5, '2024-08-30 14:35:00'),\n",
        "(2, 1, 2, 4.2, NULL),\n",
        "(3, 1, 6, 3.9, '2024-08-29 10:15:00'),\n",
        "(4, 2, 2, 4.7, NULL),\n",
        "(5, 2, 7, 4.6, '2024-08-28 09:20:00'),\n",
        "(6, 2, 8, 3.9, '2024-08-27 16:45:00'),\n",
        "(7, 3, 1, 2.9, NULL),\n",
        "(8, 3, 2, 4.9, '2024-08-26 12:30:00'),\n",
        "(9, 3, 6, NULL, NULL);\n",
        "\"\"\")\n",
        "conn.commit()\n",
        "conn.close()\n",
        "runSql('Users', 'select * from Users')\n",
        "runSql('Songs', 'select * from Songs')\n",
        "runSql('Listens', 'select * from Listens')"
      ],
      "metadata": {
        "id": "htQci6NmJvuy",
        "colab": {
          "base_uri": "https://localhost:8080/",
          "height": 888
        },
        "outputId": "c24ac327-b2a0-402c-8db0-350cd5732b9b"
      },
      "execution_count": 8,
      "outputs": [
        {
          "output_type": "display_data",
          "data": {
            "text/plain": [
              "<IPython.core.display.HTML object>"
            ],
            "text/html": [
              "<b><font color=Green> Users</font></b><table border=\"1\" class=\"dataframe\">\n",
              "  <thead>\n",
              "    <tr style=\"text-align: right;\">\n",
              "      <th>user_id</th>\n",
              "      <th>name</th>\n",
              "      <th>email</th>\n",
              "    </tr>\n",
              "  </thead>\n",
              "  <tbody>\n",
              "    <tr>\n",
              "      <td>1</td>\n",
              "      <td>Mickey</td>\n",
              "      <td>mickey@example.com</td>\n",
              "    </tr>\n",
              "    <tr>\n",
              "      <td>2</td>\n",
              "      <td>Mine</td>\n",
              "      <td>minnie@example.com</td>\n",
              "    </tr>\n",
              "    <tr>\n",
              "      <td>3</td>\n",
              "      <td>Daffy</td>\n",
              "      <td>daffy@example.com</td>\n",
              "    </tr>\n",
              "    <tr>\n",
              "      <td>4</td>\n",
              "      <td>Pluto</td>\n",
              "      <td>pluto@example.com</td>\n",
              "    </tr>\n",
              "  </tbody>\n",
              "</table>"
            ]
          },
          "metadata": {}
        },
        {
          "output_type": "display_data",
          "data": {
            "text/plain": [
              "<IPython.core.display.HTML object>"
            ],
            "text/html": [
              "<b><font color=Green> Songs</font></b><table border=\"1\" class=\"dataframe\">\n",
              "  <thead>\n",
              "    <tr style=\"text-align: right;\">\n",
              "      <th>song_id</th>\n",
              "      <th>title</th>\n",
              "      <th>artist</th>\n",
              "      <th>genre</th>\n",
              "    </tr>\n",
              "  </thead>\n",
              "  <tbody>\n",
              "    <tr>\n",
              "      <td>1</td>\n",
              "      <td>Evermore</td>\n",
              "      <td>Taylor Swift</td>\n",
              "      <td>pop</td>\n",
              "    </tr>\n",
              "    <tr>\n",
              "      <td>2</td>\n",
              "      <td>Willow</td>\n",
              "      <td>Taylor Swift</td>\n",
              "      <td>Pop</td>\n",
              "    </tr>\n",
              "    <tr>\n",
              "      <td>3</td>\n",
              "      <td>Shape of You</td>\n",
              "      <td>Ed Sheeran</td>\n",
              "      <td>Rock</td>\n",
              "    </tr>\n",
              "    <tr>\n",
              "      <td>4</td>\n",
              "      <td>Photograph</td>\n",
              "      <td>Ed Sheeran</td>\n",
              "      <td>Rock</td>\n",
              "    </tr>\n",
              "    <tr>\n",
              "      <td>5</td>\n",
              "      <td>Shivers</td>\n",
              "      <td>Ed Sheeran</td>\n",
              "      <td>Rock</td>\n",
              "    </tr>\n",
              "    <tr>\n",
              "      <td>6</td>\n",
              "      <td>Yesterday</td>\n",
              "      <td>Beatles</td>\n",
              "      <td>Classic</td>\n",
              "    </tr>\n",
              "    <tr>\n",
              "      <td>7</td>\n",
              "      <td>Yellow Submarine</td>\n",
              "      <td>Beatles</td>\n",
              "      <td>Classic</td>\n",
              "    </tr>\n",
              "    <tr>\n",
              "      <td>8</td>\n",
              "      <td>Hey Jude</td>\n",
              "      <td>Beatles</td>\n",
              "      <td>Classic</td>\n",
              "    </tr>\n",
              "    <tr>\n",
              "      <td>9</td>\n",
              "      <td>Bad Blood</td>\n",
              "      <td>Taylor Swift</td>\n",
              "      <td>Rock</td>\n",
              "    </tr>\n",
              "    <tr>\n",
              "      <td>10</td>\n",
              "      <td>DJ Mix</td>\n",
              "      <td>DJ</td>\n",
              "      <td>None</td>\n",
              "    </tr>\n",
              "  </tbody>\n",
              "</table>"
            ]
          },
          "metadata": {}
        },
        {
          "output_type": "display_data",
          "data": {
            "text/plain": [
              "<IPython.core.display.HTML object>"
            ],
            "text/html": [
              "<b><font color=Green> Listens</font></b><table border=\"1\" class=\"dataframe\">\n",
              "  <thead>\n",
              "    <tr style=\"text-align: right;\">\n",
              "      <th>listen_id</th>\n",
              "      <th>user_id</th>\n",
              "      <th>song_id</th>\n",
              "      <th>rating</th>\n",
              "      <th>listen_time</th>\n",
              "    </tr>\n",
              "  </thead>\n",
              "  <tbody>\n",
              "    <tr>\n",
              "      <td>1</td>\n",
              "      <td>1</td>\n",
              "      <td>1</td>\n",
              "      <td>4.5</td>\n",
              "      <td>2024-08-30 14:35:00</td>\n",
              "    </tr>\n",
              "    <tr>\n",
              "      <td>2</td>\n",
              "      <td>1</td>\n",
              "      <td>2</td>\n",
              "      <td>4.2</td>\n",
              "      <td>None</td>\n",
              "    </tr>\n",
              "    <tr>\n",
              "      <td>3</td>\n",
              "      <td>1</td>\n",
              "      <td>6</td>\n",
              "      <td>3.9</td>\n",
              "      <td>2024-08-29 10:15:00</td>\n",
              "    </tr>\n",
              "    <tr>\n",
              "      <td>4</td>\n",
              "      <td>2</td>\n",
              "      <td>2</td>\n",
              "      <td>4.7</td>\n",
              "      <td>None</td>\n",
              "    </tr>\n",
              "    <tr>\n",
              "      <td>5</td>\n",
              "      <td>2</td>\n",
              "      <td>7</td>\n",
              "      <td>4.6</td>\n",
              "      <td>2024-08-28 09:20:00</td>\n",
              "    </tr>\n",
              "    <tr>\n",
              "      <td>6</td>\n",
              "      <td>2</td>\n",
              "      <td>8</td>\n",
              "      <td>3.9</td>\n",
              "      <td>2024-08-27 16:45:00</td>\n",
              "    </tr>\n",
              "    <tr>\n",
              "      <td>7</td>\n",
              "      <td>3</td>\n",
              "      <td>1</td>\n",
              "      <td>2.9</td>\n",
              "      <td>None</td>\n",
              "    </tr>\n",
              "    <tr>\n",
              "      <td>8</td>\n",
              "      <td>3</td>\n",
              "      <td>2</td>\n",
              "      <td>4.9</td>\n",
              "      <td>2024-08-26 12:30:00</td>\n",
              "    </tr>\n",
              "    <tr>\n",
              "      <td>9</td>\n",
              "      <td>3</td>\n",
              "      <td>6</td>\n",
              "      <td>NaN</td>\n",
              "      <td>None</td>\n",
              "    </tr>\n",
              "  </tbody>\n",
              "</table>"
            ]
          },
          "metadata": {}
        }
      ]
    },
    {
      "cell_type": "markdown",
      "source": [
        "# New Section"
      ],
      "metadata": {
        "id": "-tgBt2E8K79t"
      }
    },
    {
      "cell_type": "code",
      "source": [
        "\"\"\" Goal: Learn basic forms of SELECT, FROM, WHERE, DISTINCT \"\"\"\n",
        "qry_classic_songs = \"\"\"\n",
        "---Find the title and artists of songs in the \"Classic genre\".\n",
        "SELECT songs.title, Songs.artist FROM songs\n",
        "Where Songs.genre = 'Classic';\n",
        "\"\"\"\n",
        "runSql('Classic songs', qry_classic_songs)"
      ],
      "metadata": {
        "colab": {
          "base_uri": "https://localhost:8080/",
          "height": 161
        },
        "id": "vNBU_KlSy3uA",
        "outputId": "64126be1-2818-4ca3-d1c6-baf18d377d4c"
      },
      "execution_count": 9,
      "outputs": [
        {
          "output_type": "display_data",
          "data": {
            "text/plain": [
              "<IPython.core.display.HTML object>"
            ],
            "text/html": [
              "<b><font color=Green> Classic songs</font></b><table border=\"1\" class=\"dataframe\">\n",
              "  <thead>\n",
              "    <tr style=\"text-align: right;\">\n",
              "      <th>title</th>\n",
              "      <th>artist</th>\n",
              "    </tr>\n",
              "  </thead>\n",
              "  <tbody>\n",
              "    <tr>\n",
              "      <td>Yesterday</td>\n",
              "      <td>Beatles</td>\n",
              "    </tr>\n",
              "    <tr>\n",
              "      <td>Yellow Submarine</td>\n",
              "      <td>Beatles</td>\n",
              "    </tr>\n",
              "    <tr>\n",
              "      <td>Hey Jude</td>\n",
              "      <td>Beatles</td>\n",
              "    </tr>\n",
              "  </tbody>\n",
              "</table>"
            ]
          },
          "metadata": {}
        }
      ]
    },
    {
      "cell_type": "code",
      "source": [
        "qry_classic2_songs = \"\"\"\n",
        "--- Find the title and artists of songs in the \"Classic\" genre.\n",
        "SELECT songs.title, songs.artist\n",
        "FROM songs\n",
        "WHERE Songs.genre = 'Classic'\n",
        "AND songs.title like 'Ye%';\n",
        "\"\"\"\n",
        "runSql('Classic songs starting from Ye', qry_classic2_songs)"
      ],
      "metadata": {
        "id": "Z4KOSn3KJvyA",
        "colab": {
          "base_uri": "https://localhost:8080/",
          "height": 129
        },
        "outputId": "c8358c42-3fd3-43f2-ce08-6cb1a59ee236"
      },
      "execution_count": 13,
      "outputs": [
        {
          "output_type": "display_data",
          "data": {
            "text/plain": [
              "<IPython.core.display.HTML object>"
            ],
            "text/html": [
              "<b><font color=Green> Classic songs starting from Ye</font></b><table border=\"1\" class=\"dataframe\">\n",
              "  <thead>\n",
              "    <tr style=\"text-align: right;\">\n",
              "      <th>title</th>\n",
              "      <th>artist</th>\n",
              "    </tr>\n",
              "  </thead>\n",
              "  <tbody>\n",
              "    <tr>\n",
              "      <td>Yesterday</td>\n",
              "      <td>Beatles</td>\n",
              "    </tr>\n",
              "    <tr>\n",
              "      <td>Yellow Submarine</td>\n",
              "      <td>Beatles</td>\n",
              "    </tr>\n",
              "  </tbody>\n",
              "</table>"
            ]
          },
          "metadata": {}
        }
      ]
    },
    {
      "cell_type": "code",
      "source": [
        "qry_classic3_songs = \"\"\"\n",
        "--- Find the title and artists of songs in the \"Classic\" genre.\n",
        "SELECT * FROM Songs\n",
        "\n",
        "\"\"\"\n",
        "runSql('Basic query', qry_classic3_songs)"
      ],
      "metadata": {
        "id": "Q4fCLCCAJv0k",
        "colab": {
          "base_uri": "https://localhost:8080/",
          "height": 380
        },
        "outputId": "05577c56-41c2-4497-af70-8de9604563de"
      },
      "execution_count": 17,
      "outputs": [
        {
          "output_type": "display_data",
          "data": {
            "text/plain": [
              "<IPython.core.display.HTML object>"
            ],
            "text/html": [
              "<b><font color=Green> Basic query</font></b><table border=\"1\" class=\"dataframe\">\n",
              "  <thead>\n",
              "    <tr style=\"text-align: right;\">\n",
              "      <th>song_id</th>\n",
              "      <th>title</th>\n",
              "      <th>artist</th>\n",
              "      <th>genre</th>\n",
              "    </tr>\n",
              "  </thead>\n",
              "  <tbody>\n",
              "    <tr>\n",
              "      <td>1</td>\n",
              "      <td>Evermore</td>\n",
              "      <td>Taylor Swift</td>\n",
              "      <td>pop</td>\n",
              "    </tr>\n",
              "    <tr>\n",
              "      <td>2</td>\n",
              "      <td>Willow</td>\n",
              "      <td>Taylor Swift</td>\n",
              "      <td>Pop</td>\n",
              "    </tr>\n",
              "    <tr>\n",
              "      <td>3</td>\n",
              "      <td>Shape of You</td>\n",
              "      <td>Ed Sheeran</td>\n",
              "      <td>Rock</td>\n",
              "    </tr>\n",
              "    <tr>\n",
              "      <td>4</td>\n",
              "      <td>Photograph</td>\n",
              "      <td>Ed Sheeran</td>\n",
              "      <td>Rock</td>\n",
              "    </tr>\n",
              "    <tr>\n",
              "      <td>5</td>\n",
              "      <td>Shivers</td>\n",
              "      <td>Ed Sheeran</td>\n",
              "      <td>Rock</td>\n",
              "    </tr>\n",
              "    <tr>\n",
              "      <td>6</td>\n",
              "      <td>Yesterday</td>\n",
              "      <td>Beatles</td>\n",
              "      <td>Classic</td>\n",
              "    </tr>\n",
              "    <tr>\n",
              "      <td>7</td>\n",
              "      <td>Yellow Submarine</td>\n",
              "      <td>Beatles</td>\n",
              "      <td>Classic</td>\n",
              "    </tr>\n",
              "    <tr>\n",
              "      <td>8</td>\n",
              "      <td>Hey Jude</td>\n",
              "      <td>Beatles</td>\n",
              "      <td>Classic</td>\n",
              "    </tr>\n",
              "    <tr>\n",
              "      <td>9</td>\n",
              "      <td>Bad Blood</td>\n",
              "      <td>Taylor Swift</td>\n",
              "      <td>Rock</td>\n",
              "    </tr>\n",
              "    <tr>\n",
              "      <td>10</td>\n",
              "      <td>DJ Mix</td>\n",
              "      <td>DJ</td>\n",
              "      <td>None</td>\n",
              "    </tr>\n",
              "  </tbody>\n",
              "</table>"
            ]
          },
          "metadata": {}
        }
      ]
    },
    {
      "cell_type": "code",
      "source": [
        "qry_classic4_songs = \"\"\"\n",
        "--- Find the title and artists of songs in the \"Classic\" genre.\n",
        "SELECT Songs.title, Songs.artist, Songs.song_id, Songs.genre\n",
        "FROM Songs\n",
        "WHERE Songs.genre = 'Classic' OR\n",
        "Songs.song_id < 3 ;\n",
        "\n",
        "\"\"\"\n",
        "runSql('Using Songs ID', qry_classic4_songs)"
      ],
      "metadata": {
        "id": "3Yf6SlsCJv3s",
        "colab": {
          "base_uri": "https://localhost:8080/",
          "height": 224
        },
        "outputId": "759a4d36-3318-4b20-9f97-bbb173219a35"
      },
      "execution_count": 24,
      "outputs": [
        {
          "output_type": "display_data",
          "data": {
            "text/plain": [
              "<IPython.core.display.HTML object>"
            ],
            "text/html": [
              "<b><font color=Green> Using Songs ID</font></b><table border=\"1\" class=\"dataframe\">\n",
              "  <thead>\n",
              "    <tr style=\"text-align: right;\">\n",
              "      <th>title</th>\n",
              "      <th>artist</th>\n",
              "      <th>song_id</th>\n",
              "      <th>genre</th>\n",
              "    </tr>\n",
              "  </thead>\n",
              "  <tbody>\n",
              "    <tr>\n",
              "      <td>Evermore</td>\n",
              "      <td>Taylor Swift</td>\n",
              "      <td>1</td>\n",
              "      <td>pop</td>\n",
              "    </tr>\n",
              "    <tr>\n",
              "      <td>Willow</td>\n",
              "      <td>Taylor Swift</td>\n",
              "      <td>2</td>\n",
              "      <td>Pop</td>\n",
              "    </tr>\n",
              "    <tr>\n",
              "      <td>Yesterday</td>\n",
              "      <td>Beatles</td>\n",
              "      <td>6</td>\n",
              "      <td>Classic</td>\n",
              "    </tr>\n",
              "    <tr>\n",
              "      <td>Yellow Submarine</td>\n",
              "      <td>Beatles</td>\n",
              "      <td>7</td>\n",
              "      <td>Classic</td>\n",
              "    </tr>\n",
              "    <tr>\n",
              "      <td>Hey Jude</td>\n",
              "      <td>Beatles</td>\n",
              "      <td>8</td>\n",
              "      <td>Classic</td>\n",
              "    </tr>\n",
              "  </tbody>\n",
              "</table>"
            ]
          },
          "metadata": {}
        }
      ]
    },
    {
      "cell_type": "code",
      "source": [
        "qry_genres = \"\"\"\n",
        "--- List of all genres in the Songs table\n",
        "SELECT Songs.genre FROM Songs\n",
        "\n",
        "\"\"\"\n",
        "runSql('Genre Table Songs', qry_genres)"
      ],
      "metadata": {
        "id": "UD2KytGSJv6k",
        "colab": {
          "base_uri": "https://localhost:8080/",
          "height": 380
        },
        "outputId": "ac75558b-303b-483d-c325-2290c36ae1b4"
      },
      "execution_count": 27,
      "outputs": [
        {
          "output_type": "display_data",
          "data": {
            "text/plain": [
              "<IPython.core.display.HTML object>"
            ],
            "text/html": [
              "<b><font color=Green> Genre Table Songs</font></b><table border=\"1\" class=\"dataframe\">\n",
              "  <thead>\n",
              "    <tr style=\"text-align: right;\">\n",
              "      <th>genre</th>\n",
              "    </tr>\n",
              "  </thead>\n",
              "  <tbody>\n",
              "    <tr>\n",
              "      <td>pop</td>\n",
              "    </tr>\n",
              "    <tr>\n",
              "      <td>Pop</td>\n",
              "    </tr>\n",
              "    <tr>\n",
              "      <td>Rock</td>\n",
              "    </tr>\n",
              "    <tr>\n",
              "      <td>Rock</td>\n",
              "    </tr>\n",
              "    <tr>\n",
              "      <td>Rock</td>\n",
              "    </tr>\n",
              "    <tr>\n",
              "      <td>Classic</td>\n",
              "    </tr>\n",
              "    <tr>\n",
              "      <td>Classic</td>\n",
              "    </tr>\n",
              "    <tr>\n",
              "      <td>Classic</td>\n",
              "    </tr>\n",
              "    <tr>\n",
              "      <td>Rock</td>\n",
              "    </tr>\n",
              "    <tr>\n",
              "      <td>None</td>\n",
              "    </tr>\n",
              "  </tbody>\n",
              "</table>"
            ]
          },
          "metadata": {}
        }
      ]
    },
    {
      "cell_type": "code",
      "source": [
        "qry_distinct = \"\"\"\n",
        "SELECT DISTINCT genre\n",
        "FROM Songs;\n",
        "\"\"\"\n",
        "runSql('Distinct songs', qry_distinct)"
      ],
      "metadata": {
        "id": "n-m_Zq8zJv9V",
        "colab": {
          "base_uri": "https://localhost:8080/",
          "height": 224
        },
        "outputId": "4edf4e50-a637-4d3a-e6cb-55007f82f374"
      },
      "execution_count": 30,
      "outputs": [
        {
          "output_type": "display_data",
          "data": {
            "text/plain": [
              "<IPython.core.display.HTML object>"
            ],
            "text/html": [
              "<b><font color=Green> Distinct songs</font></b><table border=\"1\" class=\"dataframe\">\n",
              "  <thead>\n",
              "    <tr style=\"text-align: right;\">\n",
              "      <th>genre</th>\n",
              "    </tr>\n",
              "  </thead>\n",
              "  <tbody>\n",
              "    <tr>\n",
              "      <td>pop</td>\n",
              "    </tr>\n",
              "    <tr>\n",
              "      <td>Pop</td>\n",
              "    </tr>\n",
              "    <tr>\n",
              "      <td>Rock</td>\n",
              "    </tr>\n",
              "    <tr>\n",
              "      <td>Classic</td>\n",
              "    </tr>\n",
              "    <tr>\n",
              "      <td>None</td>\n",
              "    </tr>\n",
              "  </tbody>\n",
              "</table>"
            ]
          },
          "metadata": {}
        }
      ]
    },
    {
      "cell_type": "code",
      "source": [
        "query_artistsong_count = \"\"\"\n",
        "--- Songs by the artist in differnet genre\n",
        "SELECT genre, count(*) as num_songs\n",
        "FROM songs\n",
        "where artist = 'Taylor Swift'\n",
        "GROUP BY genre;\n",
        "\"\"\"\n",
        "runSql('Count the songs genre', query_artistsong_count)"
      ],
      "metadata": {
        "id": "wa4ydoRPJwAG",
        "colab": {
          "base_uri": "https://localhost:8080/",
          "height": 161
        },
        "outputId": "6e46596b-d033-45d9-ce91-e4d63b6889a2"
      },
      "execution_count": 36,
      "outputs": [
        {
          "output_type": "display_data",
          "data": {
            "text/plain": [
              "<IPython.core.display.HTML object>"
            ],
            "text/html": [
              "<b><font color=Green> Count the songs genre</font></b><table border=\"1\" class=\"dataframe\">\n",
              "  <thead>\n",
              "    <tr style=\"text-align: right;\">\n",
              "      <th>genre</th>\n",
              "      <th>num_songs</th>\n",
              "    </tr>\n",
              "  </thead>\n",
              "  <tbody>\n",
              "    <tr>\n",
              "      <td>Pop</td>\n",
              "      <td>1</td>\n",
              "    </tr>\n",
              "    <tr>\n",
              "      <td>Rock</td>\n",
              "      <td>1</td>\n",
              "    </tr>\n",
              "    <tr>\n",
              "      <td>pop</td>\n",
              "      <td>1</td>\n",
              "    </tr>\n",
              "  </tbody>\n",
              "</table>"
            ]
          },
          "metadata": {}
        }
      ]
    },
    {
      "cell_type": "code",
      "source": [
        "query_numsongs_artist = \"\"\"\n",
        "SELECT genre, count(*) as num_song\n",
        "FROM Songs\n",
        "GROUP BY genre;\n",
        "\"\"\"\n",
        "runSql('ALl the songs with count', query_numsongs_artist)\n",
        "\n",
        "query_artist_count = \"\"\"\n",
        "SELECT genre, artist, count(*) as num_song\n",
        "FROM Songs\n",
        "GROUP BY genre, artist;\n",
        "\"\"\"\n",
        "runSql('ALl the songs with Artist', query_artist_count)\n",
        "\n",
        "\n",
        "query_excluding_artist = \"\"\"\n",
        "SELECT genre, count(*) as num_songs\n",
        "from songs\n",
        "GROUP BY genre;\n",
        "\"\"\"\n",
        "runSql('Genre without artist', query_excluding_artist)"
      ],
      "metadata": {
        "id": "svVXoUjhJwC_",
        "colab": {
          "base_uri": "https://localhost:8080/",
          "height": 668
        },
        "outputId": "de840574-8df4-4d14-c5f3-3124a483792a"
      },
      "execution_count": 45,
      "outputs": [
        {
          "output_type": "display_data",
          "data": {
            "text/plain": [
              "<IPython.core.display.HTML object>"
            ],
            "text/html": [
              "<b><font color=Green> ALl the songs with count</font></b><table border=\"1\" class=\"dataframe\">\n",
              "  <thead>\n",
              "    <tr style=\"text-align: right;\">\n",
              "      <th>genre</th>\n",
              "      <th>num_song</th>\n",
              "    </tr>\n",
              "  </thead>\n",
              "  <tbody>\n",
              "    <tr>\n",
              "      <td>None</td>\n",
              "      <td>1</td>\n",
              "    </tr>\n",
              "    <tr>\n",
              "      <td>Classic</td>\n",
              "      <td>3</td>\n",
              "    </tr>\n",
              "    <tr>\n",
              "      <td>Pop</td>\n",
              "      <td>1</td>\n",
              "    </tr>\n",
              "    <tr>\n",
              "      <td>Rock</td>\n",
              "      <td>4</td>\n",
              "    </tr>\n",
              "    <tr>\n",
              "      <td>pop</td>\n",
              "      <td>1</td>\n",
              "    </tr>\n",
              "  </tbody>\n",
              "</table>"
            ]
          },
          "metadata": {}
        },
        {
          "output_type": "display_data",
          "data": {
            "text/plain": [
              "<IPython.core.display.HTML object>"
            ],
            "text/html": [
              "<b><font color=Green> ALl the songs with Artist</font></b><table border=\"1\" class=\"dataframe\">\n",
              "  <thead>\n",
              "    <tr style=\"text-align: right;\">\n",
              "      <th>genre</th>\n",
              "      <th>artist</th>\n",
              "      <th>num_song</th>\n",
              "    </tr>\n",
              "  </thead>\n",
              "  <tbody>\n",
              "    <tr>\n",
              "      <td>None</td>\n",
              "      <td>DJ</td>\n",
              "      <td>1</td>\n",
              "    </tr>\n",
              "    <tr>\n",
              "      <td>Classic</td>\n",
              "      <td>Beatles</td>\n",
              "      <td>3</td>\n",
              "    </tr>\n",
              "    <tr>\n",
              "      <td>Pop</td>\n",
              "      <td>Taylor Swift</td>\n",
              "      <td>1</td>\n",
              "    </tr>\n",
              "    <tr>\n",
              "      <td>Rock</td>\n",
              "      <td>Ed Sheeran</td>\n",
              "      <td>3</td>\n",
              "    </tr>\n",
              "    <tr>\n",
              "      <td>Rock</td>\n",
              "      <td>Taylor Swift</td>\n",
              "      <td>1</td>\n",
              "    </tr>\n",
              "    <tr>\n",
              "      <td>pop</td>\n",
              "      <td>Taylor Swift</td>\n",
              "      <td>1</td>\n",
              "    </tr>\n",
              "  </tbody>\n",
              "</table>"
            ]
          },
          "metadata": {}
        },
        {
          "output_type": "display_data",
          "data": {
            "text/plain": [
              "<IPython.core.display.HTML object>"
            ],
            "text/html": [
              "<b><font color=Green> Genre without artist</font></b><table border=\"1\" class=\"dataframe\">\n",
              "  <thead>\n",
              "    <tr style=\"text-align: right;\">\n",
              "      <th>genre</th>\n",
              "      <th>num_songs</th>\n",
              "    </tr>\n",
              "  </thead>\n",
              "  <tbody>\n",
              "    <tr>\n",
              "      <td>None</td>\n",
              "      <td>1</td>\n",
              "    </tr>\n",
              "    <tr>\n",
              "      <td>Classic</td>\n",
              "      <td>3</td>\n",
              "    </tr>\n",
              "    <tr>\n",
              "      <td>Pop</td>\n",
              "      <td>1</td>\n",
              "    </tr>\n",
              "    <tr>\n",
              "      <td>Rock</td>\n",
              "      <td>4</td>\n",
              "    </tr>\n",
              "    <tr>\n",
              "      <td>pop</td>\n",
              "      <td>1</td>\n",
              "    </tr>\n",
              "  </tbody>\n",
              "</table>"
            ]
          },
          "metadata": {}
        }
      ]
    },
    {
      "cell_type": "code",
      "source": [],
      "metadata": {
        "id": "x9t2xJJLJwFt"
      },
      "execution_count": 4,
      "outputs": []
    },
    {
      "cell_type": "code",
      "source": [],
      "metadata": {
        "id": "pXmuTBAoJwIR"
      },
      "execution_count": 4,
      "outputs": []
    },
    {
      "cell_type": "code",
      "source": [],
      "metadata": {
        "id": "OQwxcK9rJwLN"
      },
      "execution_count": 4,
      "outputs": []
    },
    {
      "cell_type": "code",
      "source": [],
      "metadata": {
        "id": "wPJkLWBZJwOD"
      },
      "execution_count": 4,
      "outputs": []
    },
    {
      "cell_type": "code",
      "source": [],
      "metadata": {
        "id": "C-honW_hJwQy"
      },
      "execution_count": 4,
      "outputs": []
    },
    {
      "cell_type": "code",
      "source": [],
      "metadata": {
        "id": "Bj2CxQTkJwT0"
      },
      "execution_count": 4,
      "outputs": []
    },
    {
      "cell_type": "code",
      "source": [],
      "metadata": {
        "id": "TbFbzpdXJwV1"
      },
      "execution_count": 4,
      "outputs": []
    },
    {
      "cell_type": "code",
      "source": [],
      "metadata": {
        "id": "xxqUcXm_JwYr"
      },
      "execution_count": 4,
      "outputs": []
    },
    {
      "cell_type": "code",
      "source": [
        "# query = \"\"\"\n",
        "# CREATE TABLE songs(id INTEGER, title TEXT);\n",
        "# INSERT INTO songs VALUES (1, 'Song A');\n",
        "# INSERT INTO songs VALUES (2, 'Song B');\n",
        "# SELECT * FROM songs;\n",
        "# \"\"\"\n",
        "# fromline = 1\n",
        "# lines = query.strip().split('\\n')\n",
        "# for lineindex in range(1, len(lines)):\n",
        "#   partial_query = '\\n'.join(lines[:lineindex])\n",
        "#   caption = 'Query till line:' + partial_query\n",
        "#   # print(f'Lineidx={lineindex} -> partial_query:\\n{partial_query}\\n')\n",
        "#   print(caption)"
      ],
      "metadata": {
        "id": "ixfDfyww8YRS"
      },
      "execution_count": 5,
      "outputs": []
    },
    {
      "cell_type": "code",
      "source": [
        "# for lineindex in range(1, len(lines)):\n",
        "#   partial_query = '\\n'.join(lines[:lineindex])\n",
        "#   print(f'Lineidx={lineindex} -> partial_query:\\n{partial_query}\\n')"
      ],
      "metadata": {
        "id": "cXfbN_Xx1GB7"
      },
      "execution_count": 6,
      "outputs": []
    },
    {
      "cell_type": "code",
      "source": [],
      "metadata": {
        "id": "m9iEfkbS1F-_"
      },
      "execution_count": 6,
      "outputs": []
    },
    {
      "cell_type": "code",
      "source": [],
      "metadata": {
        "id": "sCaCptkJ1F8K"
      },
      "execution_count": 6,
      "outputs": []
    },
    {
      "cell_type": "code",
      "source": [],
      "metadata": {
        "id": "UtYqq6br1F5K"
      },
      "execution_count": 6,
      "outputs": []
    },
    {
      "cell_type": "code",
      "source": [],
      "metadata": {
        "id": "GML5-buW1F2Q"
      },
      "execution_count": 6,
      "outputs": []
    },
    {
      "cell_type": "code",
      "source": [],
      "metadata": {
        "id": "Ic12sgr21FzU"
      },
      "execution_count": 6,
      "outputs": []
    },
    {
      "cell_type": "code",
      "source": [],
      "metadata": {
        "id": "7HAPGlbM1Fwl"
      },
      "execution_count": 6,
      "outputs": []
    },
    {
      "cell_type": "code",
      "source": [],
      "metadata": {
        "id": "2Me7UgWf1Fto"
      },
      "execution_count": 6,
      "outputs": []
    },
    {
      "cell_type": "code",
      "source": [],
      "metadata": {
        "id": "Y7RuEBN21Fqu"
      },
      "execution_count": 6,
      "outputs": []
    },
    {
      "cell_type": "code",
      "source": [],
      "metadata": {
        "id": "QBxoiR-R1FjG"
      },
      "execution_count": 6,
      "outputs": []
    }
  ]
}